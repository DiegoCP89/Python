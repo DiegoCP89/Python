{
  "cells": [
    {
      "cell_type": "markdown",
      "metadata": {
        "id": "view-in-github",
        "colab_type": "text"
      },
      "source": [
        "<a href=\"https://colab.research.google.com/github/DiegoCP89/Python/blob/main/DSA/EstudoDeCaso2.ipynb\" target=\"_parent\"><img src=\"https://colab.research.google.com/assets/colab-badge.svg\" alt=\"Open In Colab\"/></a>"
      ]
    },
    {
      "cell_type": "code",
      "source": [
        "print('Jogo entre dois jogadores')\n",
        "print('Escolha pedra, papel ou tesoura \\n')\n",
        "\n",
        "Lipe = input('Qual a jogada de Lipe?')\n",
        "Pedro = input('Qual a jogada de Pedro?')\n",
        "\n",
        "if (Lipe == 'pedra') and (Pedro == 'papel'):\n",
        "        print(f' Pedro venceu.')\n",
        "elif (Lipe == 'pedra') and (Pedro == 'tesoura'):\n",
        "        print(f'Lipe venceu.')\n",
        "elif (Lipe == 'pedra') and (Pedro == 'pedra'):\n",
        "        print(f'Empate')\n",
        "elif (Lipe == 'papel') and (Pedro == 'pedra'):\n",
        "  print(f' Lipe venceu.')\n",
        "elif (Lipe == 'papel') and (Pedro == 'tesoura'):\n",
        "        print(f'Pedro venceu.')\n",
        "elif (Lipe == 'papel') and (Pedro == 'papel'):\n",
        "        print(f'Empate')\n",
        "elif (Lipe == 'tesoura') and (Pedro == 'pedra'):\n",
        "  print(f' Pedro venceu.')\n",
        "elif (Lipe == 'tesoura') and (Pedro == 'papel'):\n",
        "        print(f'Lipe venceu.')\n",
        "else:\n",
        "  print(f'Empate')"
      ],
      "metadata": {
        "id": "FHt4BnMUnabE",
        "colab": {
          "base_uri": "https://localhost:8080/"
        },
        "outputId": "34809374-90c8-412c-e41c-b922b8aa3699"
      },
      "execution_count": 18,
      "outputs": [
        {
          "output_type": "stream",
          "name": "stdout",
          "text": [
            "Jogo entre dois jogadores\n",
            "Escolha pedra, papel ou tesoura \n",
            "\n",
            "Qual a jogada de Lipe?tesoura\n",
            "Qual a jogada de Pedro?pedra\n",
            " Pedro venceu.\n"
          ]
        }
      ]
    },
    {
      "cell_type": "code",
      "source": [
        "# Estudo de Caso 2 - Lógica de Programação - Fundamentos de Linguagem Python Para Construção de Game\n",
        "\n",
        "# --- 1. Apresentação e Regras ---\n",
        "\n",
        "# Usamos a função print() para exibir mensagens na tela (Saída Padrão).\n",
        "print(\"------------------------------------------------------\")\n",
        "print(\"--- Jogo Pedra, Papel e Tesoura (2 Jogadores) ---\")\n",
        "print(\"------------------------------------------------------\")\n",
        "print(\"Bem-vindos! Cada jogador deve escolher uma das opções.\")\n",
        "\n",
        "# Usamos uma tupla para armazenar as opções válidas.\n",
        "# Tuplas são boas aqui porque as opções do jogo não mudam (são imutáveis).\n",
        "opcoes_validas = (\"pedra\", \"papel\", \"tesoura\") #tupla\n",
        "print(f\"Opções válidas: {opcoes_validas}\")\n",
        "print(\"-\" * 25) # Imprime uma linha (é o caractere 25 x)\n",
        "\n",
        "# --- 2. Coleta dos Dados de Entrada ---\n",
        "\n",
        "# Usamos a função input() para receber o que o usuário digita (Entrada Padrão).\n",
        "# A função input() sempre retorna uma string.\n",
        "jogada_jogador1_inicial = input(\"Jogador 1, digite sua jogada: \")\n",
        "jogada_jogador2_inicial = input(\"Jogador 2, digite sua jogada: \")\n",
        "\n",
        "# --- 3. Tratamento dos Dados de Entrada ---\n",
        "\n",
        "# Manipulação de Strings: usamos .lower() para converter para minúsculas\n",
        "# e .strip() para remover espaços extras. Isso evita erros como \"Pedra\" != \"pedra\".\n",
        "jogada_jogador1 = jogada_jogador1_inicial.lower().strip()\n",
        "jogada_jogador2 = jogada_jogador2_inicial.lower().strip()\n",
        "\n",
        "print(\"-\" * 25)\n",
        "print(f\"Jogador 1 escolheu: {jogada_jogador1}\")\n",
        "print(f\"Jogador 2 escolheu: {jogada_jogador2}\")\n",
        "print(\"-\" * 25)\n",
        "\n",
        "# --- 4. Lógica do Jogo e Resultado ---\n",
        "\n",
        "# Primeiro, verificamos se as jogadas são válidas.\n",
        "# Há várias opções para checar se a jogada está dentro da nossa tupla de opções.\n",
        "\n",
        "if jogada_jogador1 not in opcoes_validas or jogada_jogador2 not in opcoes_validas:\n",
        "#if opcoes_validas.count(jogada_jogador1) == 0 or opcoes_validas.count(jogada_jogador2) == 0:\n",
        "#if {jogada_jogador1, jogada_jogador2} - set(opcoes_validas):\n",
        "#if not all(jogada in opcoes_validas for jogada in [jogada_jogador1, jogada_jogador2]):\n",
        "#if len(list(filter(lambda x: x not in opcoes_validas, [jogada_jogador1, jogada_jogador2]))) > 0:\n",
        "    print(\"Uma ou ambas as jogadas são inválidas! Por favor, use apenas 'pedra', 'papel' ou 'tesoura'.\")\n",
        "\n",
        "# Agora, a lógica principal do jogo, usando operadores de comparação (==) e lógicos (and, or).\n",
        "\n",
        "# Caso 1: Empate\n",
        "elif jogada_jogador1 == jogada_jogador2:\n",
        "    print(\"Resultado: É um empate!\")\n",
        "\n",
        "# Caso 2: Jogador 1 vence\n",
        "# \\ a barra serve para quebrar linha\n",
        "# Agrupamos todas as condições de vitória do Jogador 1 com o operador 'or'.\n",
        "elif (jogada_jogador1 == \"pedra\" and jogada_jogador2 == \"tesoura\") or \\\n",
        "     (jogada_jogador1 == \"tesoura\" and jogada_jogador2 == \"papel\") or \\\n",
        "     (jogada_jogador1 == \"papel\" and jogada_jogador2 == \"pedra\"):\n",
        "    print(\"Resultado: Jogador 1 venceu! Parabéns!\")\n",
        "\n",
        "# Caso 3: Se não empatou e o Jogador 1 não venceu, então o Jogador 2 venceu.\n",
        "else:\n",
        "  print(\"Resultado: Jogador 2 venceu! Parabéns!\")\n",
        "\n",
        "print(\"\\n--- Fim de Jogo ---\")"
      ],
      "metadata": {
        "colab": {
          "base_uri": "https://localhost:8080/"
        },
        "id": "FEgglqp5Qihh",
        "outputId": "defc2472-8270-45c0-df24-acfecf157022"
      },
      "execution_count": 19,
      "outputs": [
        {
          "output_type": "stream",
          "name": "stdout",
          "text": [
            "------------------------------------------------------\n",
            "--- Jogo Pedra, Papel e Tesoura (2 Jogadores) ---\n",
            "------------------------------------------------------\n",
            "Bem-vindos! Cada jogador deve escolher uma das opções.\n",
            "Opções válidas: ('pedra', 'papel', 'tesoura')\n",
            "-------------------------\n",
            "Jogador 1, digite sua jogada: pedra\n",
            "Jogador 2, digite sua jogada: pedra\n",
            "-------------------------\n",
            "Jogador 1 escolheu: pedra\n",
            "Jogador 2 escolheu: pedra\n",
            "-------------------------\n",
            "Resultado: É um empate!\n",
            "\n",
            "--- Fim de Jogo ---\n"
          ]
        }
      ]
    }
  ],
  "metadata": {
    "colab": {
      "provenance": [],
      "toc_visible": true,
      "include_colab_link": true
    },
    "kernelspec": {
      "display_name": "Python 3",
      "name": "python3"
    }
  },
  "nbformat": 4,
  "nbformat_minor": 0
}