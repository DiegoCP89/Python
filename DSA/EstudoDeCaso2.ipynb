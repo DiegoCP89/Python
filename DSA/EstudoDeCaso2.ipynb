{
  "cells": [
    {
      "cell_type": "markdown",
      "metadata": {
        "id": "view-in-github",
        "colab_type": "text"
      },
      "source": [
        "<a href=\"https://colab.research.google.com/github/DiegoCP89/Python/blob/main/DSA/EstudoDeCaso2.ipynb\" target=\"_parent\"><img src=\"https://colab.research.google.com/assets/colab-badge.svg\" alt=\"Open In Colab\"/></a>"
      ]
    },
    {
      "cell_type": "code",
      "source": [
        "print('Jogo entre dois jogadores')\n",
        "print('Escolha pedra, papel ou tesoura \\n')\n",
        "\n",
        "Lipe = input('Qual a jogada de Lipe?')\n",
        "Pedro = input('Qual a jogada de Pedro?')\n",
        "\n",
        "if (Lipe == 'pedra') and (Pedro == 'papel'):\n",
        "        print(f' Pedro venceu.')\n",
        "elif (Lipe == 'pedra') and (Pedro == 'tesoura'):\n",
        "        print(f'Lipe venceu.')\n",
        "elif (Lipe == 'pedra') and (Pedro == 'pedra'):\n",
        "        print(f'Empate')\n",
        "elif (Lipe == 'papel') and (Pedro == 'pedra'):\n",
        "  print(f' Lipe venceu.')\n",
        "elif (Lipe == 'papel') and (Pedro == 'tesoura'):\n",
        "        print(f'Pedro venceu.')\n",
        "elif (Lipe == 'papel') and (Pedro == 'papel'):\n",
        "        print(f'Empate')\n",
        "elif (Lipe == 'tesoura') and (Pedro == 'pedra'):\n",
        "  print(f' Pedro venceu.')\n",
        "elif (Lipe == 'tesoura') and (Pedro == 'papel'):\n",
        "        print(f'Lipe venceu.')\n",
        "else:\n",
        "  print(f'Empate')"
      ],
      "metadata": {
        "id": "FHt4BnMUnabE"
      },
      "execution_count": null,
      "outputs": []
    }
  ],
  "metadata": {
    "colab": {
      "provenance": [],
      "toc_visible": true,
      "include_colab_link": true
    },
    "kernelspec": {
      "display_name": "Python 3",
      "name": "python3"
    }
  },
  "nbformat": 4,
  "nbformat_minor": 0
}